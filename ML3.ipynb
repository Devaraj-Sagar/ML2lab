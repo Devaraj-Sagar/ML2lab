{
  "nbformat": 4,
  "nbformat_minor": 0,
  "metadata": {
    "colab": {
      "provenance": [],
      "authorship_tag": "ABX9TyO2sP3FSntjnPzLkYaMBFr9",
      "include_colab_link": true
    },
    "kernelspec": {
      "name": "python3",
      "display_name": "Python 3"
    },
    "language_info": {
      "name": "python"
    }
  },
  "cells": [
    {
      "cell_type": "markdown",
      "metadata": {
        "id": "view-in-github",
        "colab_type": "text"
      },
      "source": [
        "<a href=\"https://colab.research.google.com/github/Devaraj-Sagar/ML2lab/blob/main/ML3.ipynb\" target=\"_parent\"><img src=\"https://colab.research.google.com/assets/colab-badge.svg\" alt=\"Open In Colab\"/></a>"
      ]
    },
    {
      "cell_type": "code",
      "source": [
        "!pip install pandas scikit-learn wittgenstein\n",
        "\n",
        "import pandas as pd\n",
        "from sklearn.datasets import load_iris\n",
        "from sklearn.model_selection import train_test_split\n",
        "import wittgenstein as lw\n",
        "\n",
        "# Load dataset\n",
        "data = load_iris(as_frame=True)\n",
        "df = data.frame\n",
        "df['target'] = data.target_names[data.target]  # Replace 0,1,2 with names\n",
        "\n",
        "# Split data\n",
        "train, test = train_test_split(df, test_size=0.3, random_state=42)\n",
        "\n",
        "# RIPPER Rule Learning\n",
        "ripper = lw.RIPPER()\n",
        "ripper.fit(train, class_feat='target', pos_class='setosa')\n",
        "\n",
        "# Print generated rules\n",
        "print(\"\\n=== RIPPER Rules ===\")\n",
        "print(ripper.ruleset_)\n",
        "\n",
        "# Evaluate\n",
        "acc = ripper.score(test, y='target')\n",
        "print(f\"\\nAccuracy on test set: {acc:.2f}\")\n",
        "\n",
        "\n",
        "import numpy as np\n",
        "\n",
        "def foil_gain(p0, n0, p1, n1):\n",
        "    \"\"\"Compute FOIL gain for a candidate literal.\"\"\"\n",
        "    if p1 == 0: return 0\n",
        "    return p1 * (np.log2(p1 / (p1 + n1)) - np.log2(p0 / (p0 + n0)))\n",
        "\n",
        "def foil_algorithm(data, target_col):\n",
        "    \"\"\"Simple FOIL-like learner.\"\"\"\n",
        "    rules = []\n",
        "    remaining = data.copy()\n",
        "\n",
        "    while True:\n",
        "        rule_conditions = []\n",
        "        pos = remaining[remaining[target_col] == 1]\n",
        "        neg = remaining[remaining[target_col] == 0]\n",
        "        if len(pos) == 0: break\n",
        "\n",
        "        while len(neg) > 0:\n",
        "            best_gain = 0\n",
        "            best_literal = None\n",
        "            for col in data.columns:\n",
        "                if col == target_col: continue\n",
        "                for val in data[col].unique():\n",
        "                    subset = remaining[remaining[col] == val]\n",
        "                    p1 = len(subset[subset[target_col] == 1])\n",
        "                    n1 = len(subset[subset[target_col] == 0])\n",
        "                    gain = foil_gain(len(pos), len(neg), p1, n1)\n",
        "                    if gain > best_gain:\n",
        "                        best_gain = gain\n",
        "                        best_literal = (col, val)\n",
        "\n",
        "            if best_literal is None: break\n",
        "            col, val = best_literal\n",
        "            rule_conditions.append((col, val))\n",
        "            remaining = remaining[remaining[col] == val]\n",
        "            pos = remaining[remaining[target_col] == 1]\n",
        "            neg = remaining[remaining[target_col] == 0]\n",
        "\n",
        "        rule = {\"IF\": rule_conditions, \"THEN\": 1}\n",
        "        rules.append(rule)\n",
        "        # Remove covered positive examples\n",
        "        covered = np.ones(len(data), dtype=bool)\n",
        "        for (col, val) in rule_conditions:\n",
        "            covered &= (data[col] == val)\n",
        "        data = data[~((data[target_col] == 1) & covered)]\n",
        "\n",
        "        if len(data[data[target_col] == 1]) == 0:\n",
        "            break\n",
        "\n",
        "    return rules\n",
        "\n",
        "# Example small binary dataset\n",
        "toy = pd.DataFrame({\n",
        "    \"Outlook\": [\"Sunny\", \"Sunny\", \"Overcast\", \"Rain\", \"Rain\", \"Rain\", \"Overcast\"],\n",
        "    \"Temp\": [\"Hot\", \"Hot\", \"Hot\", \"Mild\", \"Cool\", \"Cool\", \"Mild\"],\n",
        "    \"Play\": [0, 0, 1, 1, 1, 0, 1]\n",
        "})\n",
        "\n",
        "foil_rules = foil_algorithm(toy, \"Play\")\n",
        "print(\"\\n=== FOIL Learned Rules ===\")\n",
        "for rule in foil_rules:\n",
        "    conditions = \" AND \".join([f\"{c}={v}\" for c,v in rule[\"IF\"]])\n",
        "    print(f\"IF {conditions} THEN Play=Yes\")"
      ],
      "metadata": {
        "colab": {
          "base_uri": "https://localhost:8080/"
        },
        "id": "97TCxGhnI82o",
        "outputId": "d9af7113-aeba-4848-a323-4a2963a6a1cf"
      },
      "execution_count": null,
      "outputs": [
        {
          "output_type": "stream",
          "name": "stdout",
          "text": [
            "Requirement already satisfied: pandas in /usr/local/lib/python3.12/dist-packages (2.2.2)\n",
            "Requirement already satisfied: scikit-learn in /usr/local/lib/python3.12/dist-packages (1.6.1)\n",
            "Requirement already satisfied: wittgenstein in /usr/local/lib/python3.12/dist-packages (0.3.4)\n",
            "Requirement already satisfied: numpy>=1.26.0 in /usr/local/lib/python3.12/dist-packages (from pandas) (2.0.2)\n",
            "Requirement already satisfied: python-dateutil>=2.8.2 in /usr/local/lib/python3.12/dist-packages (from pandas) (2.9.0.post0)\n",
            "Requirement already satisfied: pytz>=2020.1 in /usr/local/lib/python3.12/dist-packages (from pandas) (2025.2)\n",
            "Requirement already satisfied: tzdata>=2022.7 in /usr/local/lib/python3.12/dist-packages (from pandas) (2025.2)\n",
            "Requirement already satisfied: scipy>=1.6.0 in /usr/local/lib/python3.12/dist-packages (from scikit-learn) (1.16.2)\n",
            "Requirement already satisfied: joblib>=1.2.0 in /usr/local/lib/python3.12/dist-packages (from scikit-learn) (1.5.2)\n",
            "Requirement already satisfied: threadpoolctl>=3.1.0 in /usr/local/lib/python3.12/dist-packages (from scikit-learn) (3.6.0)\n",
            "Requirement already satisfied: six>=1.5 in /usr/local/lib/python3.12/dist-packages (from python-dateutil>=2.8.2->pandas) (1.17.0)\n",
            "\n",
            "=== RIPPER Rules ===\n",
            "[[petalwidth(cm)=<0.2] V [petalwidth(cm)=0.2-1.0^petallength(cm)=1.5-3.06] V [petalwidth(cm)=0.2-1.0^sepallength(cm)=5.0-5.22] V [petallength(cm)=<1.4]]\n",
            "\n",
            "Accuracy on test set: 0.83\n",
            "\n",
            "=== FOIL Learned Rules ===\n",
            "IF Outlook=Overcast THEN Play=Yes\n",
            "IF  THEN Play=Yes\n"
          ]
        }
      ]
    }
  ]
}